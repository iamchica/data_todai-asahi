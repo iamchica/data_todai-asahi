{
 "cells": [
  {
   "cell_type": "markdown",
   "metadata": {
    "slideshow": {
     "slide_type": "slide"
    }
   },
   "source": [
    "## Code for assignment 1\n",
    "#### Data Management (Spring/Summer 2018) at OSIPP, Osaka U"
   ]
  },
  {
   "cell_type": "markdown",
   "metadata": {
    "slideshow": {
     "slide_type": "slide"
    }
   },
   "source": [
    "### Preamble"
   ]
  },
  {
   "cell_type": "code",
   "execution_count": 193,
   "metadata": {
    "slideshow": {
     "slide_type": "-"
    }
   },
   "outputs": [],
   "source": [
    "import pandas as pd\n",
    "import numpy as np\n",
    "import os"
   ]
  },
  {
   "cell_type": "code",
   "execution_count": 194,
   "metadata": {
    "slideshow": {
     "slide_type": "-"
    }
   },
   "outputs": [],
   "source": [
    "pd.options.display.max_rows = 200 # set the number of rows to display \n",
    "pd.options.display.max_columns = 100 # set the number of columns to display \n",
    "np.set_printoptions(threshold=np.nan) # set the elements to display for numpy arrays"
   ]
  },
  {
   "cell_type": "code",
   "execution_count": 195,
   "metadata": {
    "slideshow": {
     "slide_type": "-"
    }
   },
   "outputs": [],
   "source": [
    "os.chdir(\"E:/Dropbox/Teaching/OSIPP/H30 阪大科目/data management/assign1\")\n",
    "# os.chdir(\"path to your local folder\") or os.chdir(\"..\")"
   ]
  },
  {
   "cell_type": "markdown",
   "metadata": {
    "slideshow": {
     "slide_type": "slide"
    }
   },
   "source": [
    "### Import data"
   ]
  },
  {
   "cell_type": "code",
   "execution_count": 196,
   "metadata": {
    "slideshow": {
     "slide_type": "-"
    }
   },
   "outputs": [],
   "source": [
    "data2003a = pd.read_table('input/2003ates1v1.csv', sep=',', encoding='cp932') \n",
    "data2003b = pd.read_table('input/2003ates2v1.csv', sep=',', encoding='cp932') \n",
    "data2005 = pd.read_table('input/2005ates0801171.csv', sep=',', encoding='cp932') \n",
    "data2009 = pd.read_table('input/2009UTASP20150910.csv', sep=',', encoding='cp932') \n",
    "data2012 = pd.read_table('input/2012UTASP20150910.csv', sep=',', encoding='cp932') \n",
    "data2014 = pd.read_table('input/2014UTASP20150910.csv', sep=',', encoding='cp932') "
   ]
  },
  {
   "cell_type": "markdown",
   "metadata": {
    "slideshow": {
     "slide_type": "slide"
    }
   },
   "source": [
    "### Modify data"
   ]
  },
  {
   "cell_type": "markdown",
   "metadata": {
    "slideshow": {
     "slide_type": "subslide"
    }
   },
   "source": [
    "#### Modify 2003"
   ]
  },
  {
   "cell_type": "code",
   "execution_count": 197,
   "metadata": {
    "slideshow": {
     "slide_type": "-"
    }
   },
   "outputs": [],
   "source": [
    "questions2003a = ['defense','treaty','attack','un','smallgov','lifetime','publicen','keynes']\n",
    "questions2003b = ['constitu','defense','treaty','attack','un','nkorea','collecti','smallgov','lifetime','publicen','safety','foreign','keynes']\n",
    "\n",
    "for i in questions2003a:\n",
    "    data2003a[str(i)] = data2003a[str(i)].replace({'9':'99'})\n",
    "    data2003a[str(i)] = data2003a[str(i)].replace({'.':''})\n",
    "\n",
    "for i in questions2003b:\n",
    "    data2003b[str(i)] = data2003b[str(i)].replace({'9':'99'})\n",
    "    data2003b[str(i)] = data2003b[str(i)].replace({'.':''})\n",
    "    \n",
    "    "
   ]
  },
  {
   "cell_type": "markdown",
   "metadata": {},
   "source": [
    "#### Modify 2005"
   ]
  },
  {
   "cell_type": "code",
   "execution_count": 198,
   "metadata": {
    "slideshow": {
     "slide_type": "subslide"
    }
   },
   "outputs": [],
   "source": [
    "data2005['NAME'] = data2005['familyna'] + data2005['firstnam'] # make a name variable\n",
    "\n",
    "data2005['response'] = data2005['response'].replace({'返送あり':1,'返送なし':2})\n",
    "\n",
    "data2005['sex'] = data2005['sex'].replace({'男':1,'女':2})\n",
    "\n",
    "data2005['age'] = data2005['age'].str.replace(\"歳\",\"\") \n",
    "\n",
    "data2005['prefectu'] = data2005['prefectu'].replace({\n",
    "    '北海道':1,'青森':2,'岩手':3,'宮城':4,'秋田':5,'山形':6,'福島':7,\n",
    "    '茨城':8,'栃木':9,'群馬':10,'埼玉':11,'千葉':12,'東京':13,'神奈川':14,\n",
    "    '新潟':15,'富山':16,'石川':17,'福井':18,'山梨':19,'長野':20,'岐阜':21,'静岡':22,'愛知':23,'三重':24,\n",
    "    '滋賀':25,'京都':26,'大阪':27,'兵庫':28,'奈良':29,'和歌山':30,\n",
    "    '鳥取':31,'島根':32,'岡山':33,'広島':34,'山口':35,\n",
    "    '徳島':36,'香川':37,'愛媛':38,'高知':39,\n",
    "    '福岡':40,'佐賀':41,'長崎':42,'熊本':43,'大分':44,'宮崎':45,'鹿児島':46,'沖縄':47})\n",
    "\n",
    "data2005['blockcod'] = data2005['blockcod'].replace({\n",
    "    '北海道':51,'東北':52,'北関東':53,'南関東':54,'東京':55,\n",
    "     '北陸・信越':56,'東海':57,'近畿':58,'中国':59,'四国':60,'九州':61})\n",
    "\n",
    "data2005['incumben'] =data2005['incumben'].replace({\"新\":1,\"元\":2,\"前\":3})\n",
    "\n",
    "data2005['won'] = data2005['won'].replace({'小選挙区で当選':1,'比例区単独で当選':2,'比例区で復活当選':3,'落選':4})\n",
    "\n",
    "data2005['constitu'] = data2005['constitu'].replace({\n",
    "    '改正すべきだ':1,'どちらかと言えば改正すべきだ':2,\n",
    "    'どちらとも言えない':3,\n",
    "    'どちらかと言えば改正すべきでない':4,'改正すべきでない':5})\n",
    "\n",
    "questions = ['defence','treaty','attack','un','nkorea','collecti','smallgov','lifetime','publecen','keynes','safety','foreign']\n",
    "for i in questions:\n",
    "    data2005[str(i)] = data2005[str(i)].replace({\n",
    "        \"賛成\":1,\"どちらかと言えば賛成\":2,\n",
    "        \"どちらとも言えない\":3,\n",
    "        \"どちらかと言えば反対\":4,\"反対\":5})"
   ]
  },
  {
   "cell_type": "markdown",
   "metadata": {
    "slideshow": {
     "slide_type": "subslide"
    }
   },
   "source": [
    "#### Modify 2009, 2012 and 2014"
   ]
  },
  {
   "cell_type": "code",
   "execution_count": 199,
   "metadata": {
    "slideshow": {
     "slide_type": "slide"
    }
   },
   "outputs": [],
   "source": [
    "data2009['NAME'] = data2009['NAME'].str.replace('＝', '') \n",
    "data2012['NAME'] = data2012['NAME'].str.replace('＝', '') \n",
    "data2014['NAME'] = data2014['NAME'].str.replace('＝', '') \n",
    "\n",
    "data2012['RESULT']=data2012['RESULT'].replace({3:4,2:3,1:2,0:1})\n",
    "data2014['RESULT']=data2014['RESULT'].replace({3:4,2:3,1:2,0:1})"
   ]
  },
  {
   "cell_type": "markdown",
   "metadata": {
    "slideshow": {
     "slide_type": "subslide"
    }
   },
   "source": [
    "#### Modify party names"
   ]
  },
  {
   "cell_type": "code",
   "execution_count": 200,
   "metadata": {
    "slideshow": {
     "slide_type": "subslide"
    }
   },
   "outputs": [],
   "source": [
    "data2003a['partycod'] = data2003a['partycod'].replace({\n",
    "    1:'自民党',2:'民主党',3:'公明党',4:'自由党',5:'共産党',\n",
    "    6:'社民党',7:'保守新党',8:'無所属の会',9:'尊命',10:'自由連合',11:'無所属',99:'欠員'})\n",
    "data2003b['partycod'] = data2003b['partycod'].replace({\n",
    "    1:'自民党',2:'民主党',3:'公明党',4:'共産党',5:'社民党',\n",
    "    6:'保守新党',7:'無所属の会',8:'自由連合',9:'諸派',10:'無所属'})\n",
    "data2009['PARTY'] = data2009['PARTY'].replace({\n",
    "    1:'自民党',2:'民主党',3:'公明党',4:'共産党',5:'社民党',\n",
    "    6:'国民新党',7:'みんなの党',8:'新党日本',9:'新党大地',10:'改革クラブ',\n",
    "    11:'諸派',12:'無所属'})\n",
    "data2012['PARTY'] = data2012['PARTY'].replace({\n",
    "    1:'民主党',2:'自民党',3:'未来の党',4:'公明党',5:'日本維新の会',\n",
    "    6:'共産党',7:'みんなの党',8:'社民党',9:'新党大地',10:'国民新党',\n",
    "    11:'新党日本',12:'新党改革',13:'諸派',14:'無所属'})\n",
    "data2014['PARTY'] = data2014['PARTY'].replace({\n",
    "    1:'自民党',2:'民主党',3:'維新の党',4:'公明党',5:'次世代の党',\n",
    "    6:'共産党',7:'生活の党',8:'社民党',9:'新党改革',10:'幸福実現党',\n",
    "    11:'支持政党なし',12:'諸派',13:'無所属'})"
   ]
  },
  {
   "cell_type": "markdown",
   "metadata": {},
   "source": [
    "### Make a panel"
   ]
  },
  {
   "cell_type": "code",
   "execution_count": 201,
   "metadata": {
    "slideshow": {
     "slide_type": "-"
    }
   },
   "outputs": [],
   "source": [
    "# rename columns\n",
    "data2003a_rename = data2003a.rename(columns = {    \n",
    "    'id':'ID','name':'NAME','response':'RESPONSE','blockcod':'PRBLOCK', \n",
    "    'prefectu':'PREFEC','prefdist':'DISTRICT','partycod':'PARTY', \n",
    "    'defense':'yn_defense','treaty':'yn_treaty','attack':'yn_preemp', \n",
    "    'un':'yn_unsc','smallgov':'yn_smgov','lifetime':'yn_lifetime',\n",
    "    'publicen':'yn_publicen','keynes':'yn_keynes'})\n",
    "\n",
    "data2003b_rename = data2003b.rename(columns = {\n",
    "    'id':'ID','name':'NAME','response':'RESPONSE',\n",
    "    'prefectu':'PREFEC','prefdist':'DISTRICT','blockcod':'PRBLOCK',\n",
    "    'incumben':'INCUMB','partycod':'PARTY','won':'RESULT',\n",
    "    'constitu':'yn_const','defense':'yn_defense','treaty':'yn_treaty',\n",
    "    'attack':'yn_preemp', 'nkorea':'yn_nkorea','un':'yn_unsc',\n",
    "    'smallgov':'yn_smgov','collecti':'yn_collecti', \n",
    "    'safety':'yn_privacy','foreign':'yn_frgnvote','lifetime':'yn_lifetime',\n",
    "    'publicen':'yn_publicen','keynes':'yn_keynes'})\n",
    "\n",
    "data2005_rename = data2005.rename(columns = {\n",
    "    'id':'ID','name':'NAME','response':'RESPONSE',\n",
    "    'prefectu':'PREFEC', 'prefdist':'DISTRICT','blockcod':'PRBLOCK',\n",
    "    'incumben':'INCUMB','partycod':'PARTY','sex':'SEX','age':'AGE','won':'RESULT',  \n",
    "    'constitu':'yn_const','defence':'yn_defense',\n",
    "    'treaty':'yn_treaty','attack':'yn_preemp',\n",
    "    'nkorea':'yn_nkorea','un':'yn_unsc',\n",
    "    'smallgov':'yn_smgov','collecti':'yn_collecti', \n",
    "    'foreign':'yn_frgnvote','safety':'yn_privacy',\n",
    "    'lifetime':'yn_lifetime','publecen':'yn_publicen','keynes':'yn_keynes'})\n",
    "\n",
    "# keep columns\n",
    "data2003a_subset = data2003a_rename.loc[:,data2003a_rename.columns.str.contains('yn_')]\n",
    "data2003b_subset = data2003b_rename.loc[:,data2003b_rename.columns.str.contains('yn_')]\n",
    "data2005_subset = data2005_rename.loc[:,data2005_rename.columns.str.contains('yn_')]"
   ]
  },
  {
   "cell_type": "code",
   "execution_count": 202,
   "metadata": {
    "slideshow": {
     "slide_type": "subslide"
    }
   },
   "outputs": [],
   "source": [
    "# rename columns\n",
    "\n",
    "data2009_rename = data2009.rename(columns = {\n",
    "    'Q4_1':'camp1', 'Q4_2':'camp2', 'Q4_3':'camp3',\n",
    "    'Q5_1':'coal_lib', 'Q5_2':'coal_dem', 'Q5_3':'coal_kmei', 'Q5_4':'coal_com', 'Q5_5':'coal_soc', 'Q5_6':'coal_koku',\n",
    "    'Q8_1':'yn_medconst', 'Q8_4':'yn_reps',\n",
    "    'Q9_1':'yn_const', 'Q9_2':'yn_defense', 'Q9_4':'yn_preemp', 'Q9_5':'yn_unsc', 'Q9_6':'yn_nkorea',\n",
    "    'Q9_9':'yn_smgov', 'Q9_11':'yn_pubspend', 'Q9_12':'yn_fiscalpol', 'Q9_14':'yn_tax5yrs',\n",
    "    'Q9_16':'yn_frgnvote', 'Q9_17':'yn_frgnwork', 'Q9_18':'yn_privacy',\n",
    "    'Q10_1':'ab_env', 'Q10_7':'ab_singlemum', 'Q10_9':'ab_trade',\n",
    "    'Q11_6':'fav_masuzoe', 'Q11_9':'fav_ozawa', 'Q11_12':'fav_watanabe', 'Q11_13':'fav_hashimoto'})\n",
    "\n",
    "data2012_rename = data2012.rename(columns = {\n",
    "    'Q1_1':'prim1', 'Q1_2':'prim2', 'Q1_3':'prim3',\n",
    "    'Q2_1':'camp1', 'Q2_2':'camp2', 'Q2_3':'camp3',\n",
    "    'Q4_1':'coal_dem', 'Q4_2':'coal_lib', 'Q4_4':'coal_kmei', 'Q4_5':'coal_com', 'Q4_7':'coal_soc', 'Q4_9':'coal_koku',\n",
    "    'Q5_1':'yn_const', 'Q5_2':'yn_defense', 'Q5_3':'yn_preemp', 'Q5_4':'yn_unsc', 'Q5_5':'yn_nkorea',\n",
    "    'Q5_7':'yn_smgov', 'Q5_8':'yn_pubspend', 'Q5_9':'yn_fiscalpol', 'Q5_10':'yn_tax5yrs', 'Q5_11':'yn_tax10pc','Q5_15':'yn_privacy',\n",
    "    'Q5_16':'yn_frgnvote', 'Q5_17':'yn_frgnwork', 'Q5_18':'yn_moral', 'Q5_21':'yn_reps', 'Q5_25':'yn_medconst',\n",
    "    'Q6_1':'ab_asiaus', 'Q6_2':'ab_compet', 'Q6_3':'ab_trade', 'Q6_4':'ab_env', 'Q6_5':'ab_singlemum',\n",
    "    'Q10_3':'fav_ozawa', 'Q10_6':'fav_watanabe', 'Q10_8':'fav_hashimoto', 'Q10_16':'fav_masuzoe',\n",
    "    'Q11_1':'media_hp', 'Q11_3':'media_sns', 'Q11_4':'media_tv'})\n",
    "\n",
    "data2014_rename = data2014.rename(columns = {\n",
    "    'Q1_1':'prim1', 'Q1_2':'prim2', 'Q1_3':'prim3',\n",
    "    'Q2_1':'camp1', 'Q2_2':'camp2', 'Q2_3':'camp3',\n",
    "    'Q6_1':'yn_defense', 'Q6_2':'yn_preemp', 'Q6_3':'yn_nkorea', 'Q6_5':'yn_smgov', 'Q6_6':'yn_pubspend', 'Q6_7':'yn_fiscalpol', 'Q6_8':'yn_tax10pc', 'Q6_11':'yn_privacy', 'Q6_12':'yn_frgnvote', 'Q6_13':'yn_frgnwork', 'Q6_14':'yn_moral',\n",
    "    'Q7_1':'ab_asiaus', 'Q7_2':'ab_compet', 'Q7_3':'ab_trade', 'Q7_4':'ab_env', 'Q7_5':'ab_singlemum',\n",
    "    'Q14_1':'media_hp', 'Q14_2':'media_sns', 'Q14_3':'media_tv'})\n",
    "\n",
    "# keep columns\n",
    "data2009_subset = data2009_rename.loc[:,data2009_rename.columns.str.contains('camp|coal_|yn_|ab_|fav_')]\n",
    "data2012_subset = data2012_rename.loc[:,data2012_rename.columns.str.contains('prim|camp|coal_|yn_|ab_|fav_|media_')]\n",
    "data2014_subset = data2014_rename.loc[:,data2014_rename.columns.str.contains('prim|camp|yn_|ab_|media_')]"
   ]
  },
  {
   "cell_type": "code",
   "execution_count": 203,
   "metadata": {},
   "outputs": [],
   "source": [
    "# keep attributes like name, age, etc.\n",
    "attr = ['ID','NAME','RESPONSE','PREFEC','DISTRICT','PRBLOCK','INCUMB','TERM','PARTY','SEX','AGE','RESULT']\n",
    "\n",
    "data2003a_attr = data2003a_rename.filter(attr)\n",
    "data2003b_attr = data2003b_rename.filter(attr)\n",
    "data2005_attr = data2005_rename.filter(attr)\n",
    "data2009_attr = data2009.filter(attr)\n",
    "data2012_attr = data2012.filter(attr)\n",
    "data2014_attr = data2014.filter(attr)"
   ]
  },
  {
   "cell_type": "code",
   "execution_count": 204,
   "metadata": {
    "slideshow": {
     "slide_type": "-"
    }
   },
   "outputs": [],
   "source": [
    "# append datasets by row\n",
    "data2003a_use = pd.concat([data2003a_attr,data2003a_subset],axis=1)\n",
    "data2003b_use = pd.concat([data2003b_attr,data2003b_subset],axis=1)\n",
    "data2005_use = pd.concat([data2005_attr,data2005_subset],axis=1)\n",
    "data2009_use = pd.concat([data2009_attr,data2009_subset],axis=1)\n",
    "data2012_use = pd.concat([data2012_attr,data2012_subset],axis=1)\n",
    "data2014_use = pd.concat([data2014_attr,data2014_subset],axis=1)"
   ]
  },
  {
   "cell_type": "code",
   "execution_count": 205,
   "metadata": {
    "slideshow": {
     "slide_type": "-"
    }
   },
   "outputs": [],
   "source": [
    "# add election year\n",
    "data2003a_use['ELECYEAR'] = '2002' # tentatively set as 2002\n",
    "data2003b_use['ELECYEAR'] = '2003'\n",
    "data2005_use['ELECYEAR'] = '2005'\n",
    "data2009_use['ELECYEAR'] = '2009'\n",
    "data2012_use['ELECYEAR'] = '2012'\n",
    "data2014_use['ELECYEAR'] = '2014'"
   ]
  },
  {
   "cell_type": "markdown",
   "metadata": {
    "slideshow": {
     "slide_type": "subslide"
    }
   },
   "source": [
    "#### 2. Append all years"
   ]
  },
  {
   "cell_type": "code",
   "execution_count": 206,
   "metadata": {
    "scrolled": true,
    "slideshow": {
     "slide_type": "-"
    }
   },
   "outputs": [
    {
     "name": "stdout",
     "output_type": "stream",
     "text": [
      "True\n",
      "uid         False\n",
      "ELECYEAR    False\n",
      "dtype: bool\n"
     ]
    }
   ],
   "source": [
    "data = pd.concat([data2003a_use,data2003b_use,data2005_use,data2009_use, data2012_use, data2014_use], sort=False)\n",
    "\n",
    "# remove irrelevant spaces from names\n",
    "data['NAME'] = data['NAME'].astype(str).apply(lambda x: x.strip()) \n",
    "\n",
    "# change a duplicated name\n",
    "data.loc[(data['NAME'] == '金子恵美') & (data['ELECYEAR'] == '2014') & (data['PARTY'] == '民主党'),'NAME'] = '金子恵美２'\n",
    "\n",
    "# make an id using the names\n",
    "data['uid'] = data['NAME'].astype('category') # convert\n",
    "data['uid'] = data['uid'].cat.codes\n",
    "\n",
    "# reorder columns\n",
    "data = data[[\n",
    "'uid',\n",
    "'ELECYEAR',\n",
    "'ID',\n",
    "'NAME',\n",
    "'RESPONSE',\n",
    "'PREFEC',\n",
    "'DISTRICT',\n",
    "'PRBLOCK',\n",
    "'INCUMB',\n",
    "'TERM',\n",
    "'PARTY',\n",
    "'SEX',\n",
    "'AGE',\n",
    "'RESULT',\n",
    "'prim1',\n",
    "'prim2',\n",
    "'prim3',\n",
    "'camp1',\n",
    "'camp2',\n",
    "'camp3',\n",
    "'coal_lib',\n",
    "'coal_dem',\n",
    "'coal_kmei',\n",
    "'coal_com',\n",
    "'coal_soc',\n",
    "'coal_koku',\n",
    "'yn_medconst',\n",
    "'yn_reps',\n",
    "'yn_const',\n",
    "'yn_defense',\n",
    "'yn_preemp',\n",
    "'yn_unsc',\n",
    "'yn_nkorea',\n",
    "'yn_smgov',\n",
    "'yn_pubspend',\n",
    "'yn_fiscalpol',\n",
    "'yn_tax5yrs',\n",
    "'yn_frgnvote',\n",
    "'yn_frgnwork',\n",
    "'yn_privacy',\n",
    "'yn_tax10pc',\n",
    "'yn_moral',\n",
    "'ab_asiaus',\n",
    "'ab_compet',    \n",
    "'ab_env',\n",
    "'ab_singlemum',\n",
    "'ab_trade',\n",
    "'fav_masuzoe',\n",
    "'fav_ozawa',\n",
    "'fav_watanabe',\n",
    "'fav_hashimoto',\n",
    "'media_hp',\n",
    "'media_sns',\n",
    "'media_tv']]\n",
    "\n",
    "# check whether uid and ELECYEAR are unique and not missing\n",
    "print(data.duplicated(['uid','ELECYEAR']).any()) \n",
    "print(data[['uid','ELECYEAR']].isna().any()) "
   ]
  },
  {
   "cell_type": "markdown",
   "metadata": {
    "slideshow": {
     "slide_type": "subslide"
    }
   },
   "source": [
    "#### 3. Save"
   ]
  },
  {
   "cell_type": "code",
   "execution_count": 207,
   "metadata": {
    "slideshow": {
     "slide_type": "-"
    }
   },
   "outputs": [],
   "source": [
    "data.to_csv(\"output/syuuin_2003_2014_py.csv\",index=False)"
   ]
  },
  {
   "cell_type": "code",
   "execution_count": null,
   "metadata": {},
   "outputs": [],
   "source": []
  }
 ],
 "metadata": {
  "celltoolbar": "Slideshow",
  "kernelspec": {
   "display_name": "Python 3",
   "language": "python",
   "name": "python3"
  },
  "language_info": {
   "codemirror_mode": {
    "name": "ipython",
    "version": 3
   },
   "file_extension": ".py",
   "mimetype": "text/x-python",
   "name": "python",
   "nbconvert_exporter": "python",
   "pygments_lexer": "ipython3",
   "version": "3.6.5"
  }
 },
 "nbformat": 4,
 "nbformat_minor": 2
}
